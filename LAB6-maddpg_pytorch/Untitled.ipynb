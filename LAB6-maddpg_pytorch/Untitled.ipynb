{
 "cells": [
  {
   "cell_type": "markdown",
   "id": "forward-future",
   "metadata": {},
   "source": [
    "# Dependency Installation"
   ]
  },
  {
   "cell_type": "code",
   "execution_count": null,
   "id": "following-trace",
   "metadata": {},
   "outputs": [],
   "source": [
    "! chmod a+x install.sh\n",
    "! ./install.sh"
   ]
  },
  {
   "cell_type": "code",
   "execution_count": 14,
   "id": "concerned-metallic",
   "metadata": {},
   "outputs": [
    {
     "name": "stdout",
     "output_type": "stream",
     "text": [
      "usage: main.py [-h] [--seed SEED] [--n_rollout_threads N_ROLLOUT_THREADS]\n",
      "               [--n_training_threads N_TRAINING_THREADS]\n",
      "               [--buffer_length BUFFER_LENGTH] [--n_episodes N_EPISODES]\n",
      "               [--episode_length EPISODE_LENGTH]\n",
      "               [--steps_per_update STEPS_PER_UPDATE] [--batch_size BATCH_SIZE]\n",
      "               [--n_exploration_eps N_EXPLORATION_EPS]\n",
      "               [--init_noise_scale INIT_NOISE_SCALE]\n",
      "               [--final_noise_scale FINAL_NOISE_SCALE]\n",
      "               [--save_interval SAVE_INTERVAL] [--hidden_dim HIDDEN_DIM]\n",
      "               [--lr LR] [--tau TAU] [--agent_alg {MADDPG,DDPG}]\n",
      "               [--adversary_alg {MADDPG,DDPG}] [--discrete_action]\n",
      "               env_id model_name\n",
      "\n",
      "positional arguments:\n",
      "  env_id                Name of environment\n",
      "  model_name            Name of directory to store model/training contents\n",
      "\n",
      "optional arguments:\n",
      "  -h, --help            show this help message and exit\n",
      "  --seed SEED           Random seed\n",
      "  --n_rollout_threads N_ROLLOUT_THREADS\n",
      "  --n_training_threads N_TRAINING_THREADS\n",
      "  --buffer_length BUFFER_LENGTH\n",
      "  --n_episodes N_EPISODES\n",
      "  --episode_length EPISODE_LENGTH\n",
      "  --steps_per_update STEPS_PER_UPDATE\n",
      "  --batch_size BATCH_SIZE\n",
      "                        Batch size for model training\n",
      "  --n_exploration_eps N_EXPLORATION_EPS\n",
      "  --init_noise_scale INIT_NOISE_SCALE\n",
      "  --final_noise_scale FINAL_NOISE_SCALE\n",
      "  --save_interval SAVE_INTERVAL\n",
      "  --hidden_dim HIDDEN_DIM\n",
      "  --lr LR\n",
      "  --tau TAU\n",
      "  --agent_alg {MADDPG,DDPG}\n",
      "  --adversary_alg {MADDPG,DDPG}\n",
      "  --discrete_action\n"
     ]
    }
   ],
   "source": [
    "! python main.py --help"
   ]
  },
  {
   "cell_type": "code",
   "execution_count": null,
   "id": "colonial-cannon",
   "metadata": {},
   "outputs": [],
   "source": []
  }
 ],
 "metadata": {
  "kernelspec": {
   "display_name": "Python 3",
   "language": "python",
   "name": "python3"
  },
  "language_info": {
   "codemirror_mode": {
    "name": "ipython",
    "version": 3
   },
   "file_extension": ".py",
   "mimetype": "text/x-python",
   "name": "python",
   "nbconvert_exporter": "python",
   "pygments_lexer": "ipython3",
   "version": "3.7.3"
  }
 },
 "nbformat": 4,
 "nbformat_minor": 5
}
