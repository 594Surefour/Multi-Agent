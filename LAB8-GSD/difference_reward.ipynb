{
 "cells": [
  {
   "cell_type": "markdown",
   "metadata": {},
   "source": [
    "# Difference Reward"
   ]
  },
  {
   "cell_type": "markdown",
   "metadata": {},
   "source": [
    "## Environment\n",
    "The Gaussian Squeeze Domain (GSD):\n",
    "- There is a set of agents in which each agent contributes to a system objective\n",
    "$$G(x)=xe^{\\frac{-(x-\\mu)^2}{\\sigma^2}}$$\n",
    "$$x=\\sum_{i=0}^n a_i$$\n",
    "- The goal of the agents is to choose their individual actions $a_i$ in such a way that the sum of their individual actions optimize the objective\n"
   ]
  },
  {
   "cell_type": "code",
   "execution_count": 1,
   "metadata": {},
   "outputs": [],
   "source": [
    "import os,sys\n",
    "import random\n",
    "import numpy as np\n",
    "import matplotlib.pyplot as plt\n",
    "from agents.learning_agent import LearningAgent\n",
    "from agents.policy import EpsGreedyQPolicy\n",
    "from envs.gsd import GSD\n",
    "import ipdb\n",
    "import copy"
   ]
  },
  {
   "cell_type": "markdown",
   "metadata": {},
   "source": [
    "## Reward Function\n",
    "### 1. Global Reward\n",
    "Using the team reward $G(x)$ as the global reward sahred with each agent.\n",
    "\n",
    "### 2. Difference Reward\n"
   ]
  },
  {
   "cell_type": "markdown",
   "metadata": {},
   "source": [
    "#### Wonderful Life Utility (WLU):\n",
    "- For a a given joint state-action $(s,a)$, the WLU based DR for an agent $m$ is defined as:\n",
    "$$r^m = r(s,a) - r(s,\\textbf{a}^{-m}),$$\n",
    "    where $\\textbf{a}^{-m}$ is the joint-action without the agent $m$.\n",
    "-  The WLU DR compares the global reward to the reward received when agent $m$ is not in the system, so that $m$ can get its own contribution. (In real task, such shaped reward need to be approximated as it is hard to access directly.)"
   ]
  },
  {
   "cell_type": "code",
   "execution_count": 2,
   "metadata": {},
   "outputs": [],
   "source": [
    "def wlu_reward_function(agents, env, rewards=None):\n",
    "    if rewards is None:\n",
    "        rewards = {}\n",
    "    for agent in agents:\n",
    "        actions2 = copy.deepcopy(actions)\n",
    "        action = agent.get_previous_action()\n",
    "        actions2.remove(action)\n",
    "        _, reward2 = env.step(actions2)\n",
    "        # D is the shaped reward, reward2 is the reward shaping\n",
    "        D = G - reward2\n",
    "        rewards[agent.aid] = D\n",
    "    return rewards"
   ]
  },
  {
   "cell_type": "markdown",
   "metadata": {},
   "source": [
    "#### Aristrocratic Utility (AU)\n",
    "- For a a given joint state-action $(s, a)$, the AU based DR for an agent $m$ is defined as:\n",
    "$$r^m = r(s,a) - \\sum_{a^m} \\pi^m(a^m|o^m(s))r(s,a^{-m}\\cup a^m),$$\n",
    "where $a^{-m}\\cup a^m$ is the joint action where agent $m$’s action in $a$ is replaced with $a^m$; $o^m$  is the observation of the agent; $\\pi^m$  is the probability of action $a^m$.\n",
    "- Tips: Here you do not need to consider the probability of action as the policy is deterministic. The probability of chosen action is $1$, the others are $0$. \n",
    "- The AU marginalizes over all the actions of agent $m$ keeping other agents’ actions fixed so as to get the contribution of $m$."
   ]
  },
  {
   "cell_type": "code",
   "execution_count": 3,
   "metadata": {},
   "outputs": [],
   "source": [
    "def au_reward_function(agents, env, rewards=None):\n",
    "    if rewards is None:\n",
    "        rewards = {}\n",
    "    for agent in agents:\n",
    "        reward2 = 0\n",
    "        # please finsih the reward shaping reward2.\n",
    "        # D is the shaped reward, reward2 is the reward shaping\n",
    "        D = G - reward2\n",
    "        rewards[agent.aid] = D\n",
    "    return rewards"
   ]
  },
  {
   "cell_type": "code",
   "execution_count": 4,
   "metadata": {},
   "outputs": [
    {
     "data": {
      "image/png": "[encoded data removed]",
      "text/plain": [
       "<Figure size 432x288 with 1 Axes>"
      ]
     },
     "metadata": {},
     "output_type": "display_data"
    }
   ],
   "source": [
    "if __name__ == '__main__':\n",
    "    # different reward functions: global reward, wlu difference rewards, au difference rewards\n",
    "    reward_funs=[\n",
    "            \"global\" , \n",
    "            \"wlu\",\n",
    "            # \"au\"\n",
    "            ]\n",
    "    iter_num = 5\n",
    "    nb_agents = 10\n",
    "    nb_episode = 3000\n",
    "    mu = 0.5 \n",
    "    sigma = 1.0\n",
    "\n",
    "    results = []\n",
    "    for reward_fun in reward_funs:\n",
    "        results = []\n",
    "        for it in range(iter_num):\n",
    "            grid_env = GSD(mu=mu, sigma=sigma)\n",
    "            policy = EpsGreedyQPolicy(epsilon=0.1)\n",
    "\n",
    "            agents = []\n",
    "            for i in range(nb_agents):\n",
    "                agent = LearningAgent(aid=i, actions=grid_env.actions,  policy=policy)\n",
    "                agents.append(agent)\n",
    "\n",
    "            reward_history = []\n",
    "            for episode in range(nb_episode):\n",
    "                episode_reward = []\n",
    "                actions = []\n",
    "                rewards = {}\n",
    "\n",
    "                for agent in agents:\n",
    "                    action = agent.act()\n",
    "                    actions.append(action)\n",
    "\n",
    "                _, G = grid_env.step(actions)\n",
    "\n",
    "                # Grobal Reward\n",
    "                if reward_fun == \"global\":\n",
    "                    for agent in agents:\n",
    "                        rewards[agent.aid] = G\n",
    "\n",
    "                # Difference Rewards\n",
    "                elif reward_fun == \"wlu\":\n",
    "                    rewards = wlu_reward_function(agents, grid_env, rewards)\n",
    "                # elif reward_fun == \"au\":\n",
    "                #    rewards = au_reward_function(agents, grid_env, rewards)\n",
    "\n",
    "                for agent in agents:\n",
    "                    agent.observe(rewards[agent.aid])\n",
    "\n",
    "                actions = []\n",
    "                for agent in agents:\n",
    "                    action = agent.act(training=False)\n",
    "                    actions.append(action)\n",
    "                _, G = grid_env.step(actions)\n",
    "                reward_history.append(G)\n",
    "\n",
    "            results.append(copy.deepcopy(reward_history))\n",
    "        results = np.array(results)\n",
    "        results = results.mean(axis=0)\n",
    "        plt.plot(np.arange(len(results)), results, label=reward_fun)\n",
    "\n",
    "    plt.xlabel(\"episode\")\n",
    "    plt.ylabel(\"accumulated reward\")\n",
    "    plt.legend()\n",
    "    plt.savefig(\"result.jpg\")\n",
    "    plt.show()"
   ]
  },
  {
   "cell_type": "code",
   "execution_count": null,
   "metadata": {},
   "outputs": [],
   "source": []
  }
 ],
 "metadata": {
  "kernelspec": {
   "display_name": "Python 3",
   "language": "python",
   "name": "python3"
  },
  "language_info": {
   "codemirror_mode": {
    "name": "ipython",
    "version": 3
   },
   "file_extension": ".py",
   "mimetype": "text/x-python",
   "name": "python",
   "nbconvert_exporter": "python",
   "pygments_lexer": "ipython3",
   "version": "3.6.8"
  }
 },
 "nbformat": 4,
 "nbformat_minor": 2
}
