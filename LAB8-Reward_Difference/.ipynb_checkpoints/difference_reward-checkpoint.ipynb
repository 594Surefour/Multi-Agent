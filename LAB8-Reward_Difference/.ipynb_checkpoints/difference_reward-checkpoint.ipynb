{
 "cells": [
  {
   "cell_type": "markdown",
   "metadata": {},
   "source": [
    "# Difference Reward"
   ]
  },
  {
   "cell_type": "markdown",
   "metadata": {},
   "source": [
    "## Environment\n",
    "The Gaussian Squeeze Domain (GSD):\n",
    "- There is a set of agents in which each agent contributes to a system objective\n",
    "$$G(x)=xe^{\\frac{-(x-\\mu)^2}{\\sigma^2}}$$\n",
    "$$x=\\sum_{i=0}^n a_i$$\n",
    "- The goal of the agents is to choose their individual actions $a_i$ in such a way that the sum of their individual actions optimize the objective\n",
    "\n",
    "- action space $[0, 1, 2, 3, 4, 5, 6, 7, 8, 9]$"
   ]
  },
  {
   "cell_type": "code",
   "execution_count": 1,
   "metadata": {
    "ExecuteTime": {
     "end_time": "2021-05-16T06:33:10.327183Z",
     "start_time": "2021-05-16T06:33:09.978899Z"
    }
   },
   "outputs": [],
   "source": [
    "import os,sys\n",
    "import random\n",
    "import numpy as np\n",
    "import matplotlib.pyplot as plt\n",
    "from agents.learning_agent import LearningAgent\n",
    "from agents.policy import EpsGreedyQPolicy\n",
    "from envs.gsd import GSD\n",
    "import ipdb\n",
    "import copy"
   ]
  },
  {
   "cell_type": "markdown",
   "metadata": {},
   "source": [
    "## Reward Function\n",
    "### 1. Global Reward\n",
    "Using the team reward $G(x)$ as the global reward sahred with each agent.\n",
    "\n",
    "### 2. Difference Reward\n"
   ]
  },
  {
   "cell_type": "markdown",
   "metadata": {},
   "source": [
    "#### Wonderful Life Utility (WLU):\n",
    "- For a a given joint state-action $(s,a)$, the WLU based DR for an agent $m$ is defined as:\n",
    "$$r^m = r(s,a) - r(s,\\textbf{a}^{-m}),$$\n",
    "    where $\\textbf{a}^{-m}$ is the joint-action without the agent $m$.\n",
    "-  The WLU DR compares the global reward to the reward received when agent $m$ is not in the system, so that $m$ can get its own contribution. (In real task, such shaped reward need to be approximated as it is hard to access directly.)"
   ]
  },
  {
   "cell_type": "code",
   "execution_count": 2,
   "metadata": {
    "ExecuteTime": {
     "end_time": "2021-05-16T06:33:14.412912Z",
     "start_time": "2021-05-16T06:33:14.406858Z"
    }
   },
   "outputs": [],
   "source": [
    "def wlu_reward_function(agents, env, actions, rewards=None):\n",
    "    if rewards is None:\n",
    "        rewards = {}\n",
    "    for agent in agents:\n",
    "        actions2 = copy.deepcopy(actions)  #总体的动作\n",
    "        action = agent.get_previous_action() #a^m\n",
    "        actions2.remove(action)#a^(-m)\n",
    "        _, reward2 = env.step(actions2)\n",
    "        # D is the shaped reward, reward2 is the reward shaping\n",
    "        D = G - reward2\n",
    "        rewards[agent.aid] = D\n",
    "    return rewards"
   ]
  },
  {
   "cell_type": "markdown",
   "metadata": {},
   "source": [
    "#### Aristrocratic Utility (AU)\n",
    "- For a a given joint state-action $(s, a)$, the AU based DR for an agent $m$ is defined as:\n",
    "$$r^m = r(s,a) - \\sum_{a^m} \\pi^m(a^m|o^m(s))r(s,a^{-m}\\cup a^m),$$\n",
    "where $a^{-m}\\cup a^m$ is the joint action where agent $m$’s action in $a$ is replaced with $a^m$; $o^m$  is the observation of the agent; $\\pi^m$  is the probability of action $a^m$.\n",
    "- Tips: Here you do not need to consider the probability of action as the policy is deterministic. The probability of chosen action is $1$, the others are $0$. \n",
    "- The AU marginalizes over all the actions of agent $m$ keeping other agents’ actions fixed so as to get the contribution of $m$."
   ]
  },
  {
   "cell_type": "code",
   "execution_count": 3,
   "metadata": {
    "ExecuteTime": {
     "end_time": "2021-05-16T06:33:17.560984Z",
     "start_time": "2021-05-16T06:33:17.556547Z"
    }
   },
   "outputs": [],
   "source": [
    "def au_reward_function(agents, env, actions, rewards=None):\n",
    "    if rewards is None:\n",
    "        rewards = {}\n",
    "    for agent in agents:\n",
    "        reward2 = 0\n",
    "        \n",
    "        actions2 = copy.deepcopy(actions)\n",
    "        action = agent.get_previous_action() #a^m\n",
    "        \n",
    "        \n",
    "        actions2.remove(action)\n",
    "        _, reward2 = env.step(actions2)\n",
    "        \n",
    "        # please finsih the reward shaping reward2.\n",
    "        # D is the shaped reward, reward2 is the reward shaping\n",
    "        D = G - reward2\n",
    "        rewards[agent.aid] = D\n",
    "    return rewards"
   ]
  },
  {
   "cell_type": "code",
   "execution_count": 4,
   "metadata": {
    "ExecuteTime": {
     "end_time": "2021-05-16T06:33:26.057632Z",
     "start_time": "2021-05-16T06:33:18.155090Z"
    }
   },
   "outputs": [
    {
     "ename": "AttributeError",
     "evalue": "'dict' object has no attribute 'remove'",
     "output_type": "error",
     "traceback": [
      "\u001b[0;31m---------------------------------------------------------------------------\u001b[0m",
      "\u001b[0;31mAttributeError\u001b[0m                            Traceback (most recent call last)",
      "\u001b[0;32m<ipython-input-4-5a316ed2d1f6>\u001b[0m in \u001b[0;36m<module>\u001b[0;34m\u001b[0m\n\u001b[1;32m     45\u001b[0m                     \u001b[0mrewards\u001b[0m \u001b[0;34m=\u001b[0m \u001b[0mwlu_reward_function\u001b[0m\u001b[0;34m(\u001b[0m\u001b[0magents\u001b[0m\u001b[0;34m,\u001b[0m \u001b[0mgrid_env\u001b[0m\u001b[0;34m,\u001b[0m \u001b[0mactions\u001b[0m\u001b[0;34m,\u001b[0m \u001b[0mrewards\u001b[0m\u001b[0;34m)\u001b[0m\u001b[0;34m\u001b[0m\u001b[0;34m\u001b[0m\u001b[0m\n\u001b[1;32m     46\u001b[0m                 \u001b[0;32melif\u001b[0m \u001b[0mreward_fun\u001b[0m \u001b[0;34m==\u001b[0m \u001b[0;34m\"au\"\u001b[0m\u001b[0;34m:\u001b[0m\u001b[0;34m\u001b[0m\u001b[0;34m\u001b[0m\u001b[0m\n\u001b[0;32m---> 47\u001b[0;31m                     \u001b[0mrewards\u001b[0m \u001b[0;34m=\u001b[0m \u001b[0mau_reward_function\u001b[0m\u001b[0;34m(\u001b[0m\u001b[0magents\u001b[0m\u001b[0;34m,\u001b[0m \u001b[0mgrid_env\u001b[0m\u001b[0;34m,\u001b[0m \u001b[0mrewards\u001b[0m\u001b[0;34m)\u001b[0m\u001b[0;34m\u001b[0m\u001b[0;34m\u001b[0m\u001b[0m\n\u001b[0m\u001b[1;32m     48\u001b[0m \u001b[0;34m\u001b[0m\u001b[0m\n\u001b[1;32m     49\u001b[0m                 \u001b[0;32mfor\u001b[0m \u001b[0magent\u001b[0m \u001b[0;32min\u001b[0m \u001b[0magents\u001b[0m\u001b[0;34m:\u001b[0m\u001b[0;34m\u001b[0m\u001b[0;34m\u001b[0m\u001b[0m\n",
      "\u001b[0;32m<ipython-input-3-c1f485dcba6c>\u001b[0m in \u001b[0;36mau_reward_function\u001b[0;34m(agents, env, actions, rewards)\u001b[0m\n\u001b[1;32m      6\u001b[0m         \u001b[0mactions2\u001b[0m \u001b[0;34m=\u001b[0m \u001b[0mcopy\u001b[0m\u001b[0;34m.\u001b[0m\u001b[0mdeepcopy\u001b[0m\u001b[0;34m(\u001b[0m\u001b[0mactions\u001b[0m\u001b[0;34m)\u001b[0m\u001b[0;34m\u001b[0m\u001b[0;34m\u001b[0m\u001b[0m\n\u001b[1;32m      7\u001b[0m         \u001b[0maction\u001b[0m \u001b[0;34m=\u001b[0m \u001b[0magent\u001b[0m\u001b[0;34m.\u001b[0m\u001b[0mget_previous_action\u001b[0m\u001b[0;34m(\u001b[0m\u001b[0;34m)\u001b[0m \u001b[0;31m#a^m\u001b[0m\u001b[0;34m\u001b[0m\u001b[0;34m\u001b[0m\u001b[0m\n\u001b[0;32m----> 8\u001b[0;31m         \u001b[0mactions2\u001b[0m\u001b[0;34m.\u001b[0m\u001b[0mremove\u001b[0m\u001b[0;34m(\u001b[0m\u001b[0maction\u001b[0m\u001b[0;34m)\u001b[0m   \u001b[0;31m#a^-m\u001b[0m\u001b[0;34m\u001b[0m\u001b[0;34m\u001b[0m\u001b[0m\n\u001b[0m\u001b[1;32m      9\u001b[0m         \u001b[0m_\u001b[0m\u001b[0;34m,\u001b[0m \u001b[0mreward2\u001b[0m \u001b[0;34m=\u001b[0m \u001b[0menv\u001b[0m\u001b[0;34m.\u001b[0m\u001b[0mstep\u001b[0m\u001b[0;34m(\u001b[0m\u001b[0mactions2\u001b[0m\u001b[0;34m)\u001b[0m \u001b[0;34m+\u001b[0m \u001b[0menv\u001b[0m\u001b[0;34m.\u001b[0m\u001b[0mstep\u001b[0m\u001b[0;34m(\u001b[0m\u001b[0maction\u001b[0m\u001b[0;34m)\u001b[0m\u001b[0;34m\u001b[0m\u001b[0;34m\u001b[0m\u001b[0m\n\u001b[1;32m     10\u001b[0m \u001b[0;34m\u001b[0m\u001b[0m\n",
      "\u001b[0;31mAttributeError\u001b[0m: 'dict' object has no attribute 'remove'"
     ]
    },
    {
     "data": {
      "image/png": "[encoded data removed]",
      "text/plain": [
       "<Figure size 432x288 with 1 Axes>"
      ]
     },
     "metadata": {
      "needs_background": "light"
     },
     "output_type": "display_data"
    }
   ],
   "source": [
    "if __name__ == '__main__':\n",
    "    # different reward functions: global reward, wlu difference rewards, au difference rewards\n",
    "    reward_funs=[\n",
    "            \"global\" , \n",
    "            \"wlu\",\n",
    "            \"au\"\n",
    "            ]\n",
    "    iter_num = 5\n",
    "    nb_agents = 10\n",
    "    nb_episode = 3000\n",
    "    mu = 0.5 \n",
    "    sigma = 1.0\n",
    "\n",
    "    results = []\n",
    "    for reward_fun in reward_funs:\n",
    "        results = []\n",
    "        for it in range(iter_num):\n",
    "            grid_env = GSD(mu=mu, sigma=sigma)\n",
    "            policy = EpsGreedyQPolicy(epsilon=0.1)\n",
    "\n",
    "            agents = []\n",
    "            for i in range(nb_agents):\n",
    "                agent = LearningAgent(aid=i, actions=grid_env.actions,  policy=policy)\n",
    "                agents.append(agent)\n",
    "\n",
    "            reward_history = []\n",
    "            for episode in range(nb_episode):\n",
    "                episode_reward = []\n",
    "                actions = []\n",
    "                rewards = {}\n",
    "\n",
    "                for agent in agents:\n",
    "                    action = agent.act()\n",
    "                    actions.append(action)\n",
    "\n",
    "                _, G = grid_env.step(actions)\n",
    "\n",
    "                # Grobal Reward\n",
    "                if reward_fun == \"global\":\n",
    "                    for agent in agents:\n",
    "                        rewards[agent.aid] = G\n",
    "\n",
    "                # Difference Rewards\n",
    "                elif reward_fun == \"wlu\":\n",
    "                    rewards = wlu_reward_function(agents, grid_env, actions, rewards)\n",
    "                elif reward_fun == \"au\":\n",
    "                    rewards = au_reward_function(agents, grid_env, rewards)\n",
    "\n",
    "                for agent in agents:\n",
    "                    agent.observe(rewards[agent.aid])\n",
    "\n",
    "                actions = []\n",
    "                for agent in agents:\n",
    "                    action = agent.act(training=False)\n",
    "                    actions.append(action)\n",
    "                _, G = grid_env.step(actions)\n",
    "                reward_history.append(G)\n",
    "\n",
    "            results.append(copy.deepcopy(reward_history))\n",
    "        results = np.array(results)\n",
    "        results = results.mean(axis=0)\n",
    "        plt.plot(np.arange(len(results)), results, label=reward_fun)\n",
    "\n",
    "    plt.xlabel(\"episode\")\n",
    "    plt.ylabel(\"accumulated reward\")\n",
    "    plt.legend()\n",
    "    plt.savefig(\"result.jpg\")\n",
    "    plt.show()"
   ]
  },
  {
   "cell_type": "code",
   "execution_count": null,
   "metadata": {},
   "outputs": [],
   "source": []
  }
 ],
 "metadata": {
  "kernelspec": {
   "display_name": "Python 3",
   "language": "python",
   "name": "python3"
  },
  "language_info": {
   "codemirror_mode": {
    "name": "ipython",
    "version": 3
   },
   "file_extension": ".py",
   "mimetype": "text/x-python",
   "name": "python",
   "nbconvert_exporter": "python",
   "pygments_lexer": "ipython3",
   "version": "3.7.10"
  },
  "toc": {
   "base_numbering": 1,
   "nav_menu": {},
   "number_sections": true,
   "sideBar": true,
   "skip_h1_title": false,
   "title_cell": "Table of Contents",
   "title_sidebar": "Contents",
   "toc_cell": false,
   "toc_position": {},
   "toc_section_display": true,
   "toc_window_display": false
  },
  "varInspector": {
   "cols": {
    "lenName": 16,
    "lenType": 16,
    "lenVar": 40
   },
   "kernels_config": {
    "python": {
     "delete_cmd_postfix": "",
     "delete_cmd_prefix": "del ",
     "library": "var_list.py",
     "varRefreshCmd": "print(var_dic_list())"
    },
    "r": {
     "delete_cmd_postfix": ") ",
     "delete_cmd_prefix": "rm(",
     "library": "var_list.r",
     "varRefreshCmd": "cat(var_dic_list()) "
    }
   },
   "types_to_exclude": [
    "module",
    "function",
    "builtin_function_or_method",
    "instance",
    "_Feature"
   ],
   "window_display": false
  }
 },
 "nbformat": 4,
 "nbformat_minor": 4
}
